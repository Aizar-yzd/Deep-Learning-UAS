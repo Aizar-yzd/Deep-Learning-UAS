{
  "nbformat": 4,
  "nbformat_minor": 0,
  "metadata": {
    "colab": {
      "provenance": [],
      "gpuType": "T4"
    },
    "kernelspec": {
      "name": "python3",
      "display_name": "Python 3"
    },
    "language_info": {
      "name": "python"
    },
    "accelerator": "GPU"
  },
  "cells": [
    {
      "cell_type": "markdown",
      "source": [
        "# Chapter 7 - Ensemble Learning and Random Forests Code Reproduction"
      ],
      "metadata": {
        "id": "jEWNuwEOsuMX"
      }
    },
    {
      "cell_type": "code",
      "execution_count": 1,
      "metadata": {
        "id": "MGGXuWCWss6E"
      },
      "outputs": [],
      "source": [
        "# Impor umum\n",
        "import numpy as np\n",
        "import os\n",
        "import matplotlib as mpl\n",
        "import matplotlib.pyplot as plt\n",
        "\n",
        "# Konfigurasi plot\n",
        "%matplotlib inline\n",
        "mpl.rc('axes', labelsize=14)\n",
        "mpl.rc('xtick', labelsize=12)\n",
        "mpl.rc('ytick', labelsize=12)"
      ]
    },
    {
      "cell_type": "code",
      "source": [
        "from sklearn.model_selection import train_test_split\n",
        "from sklearn.datasets import make_moons\n",
        "from sklearn.metrics import accuracy_score\n",
        "\n",
        "# Membuat dan membagi dataset\n",
        "X, y = make_moons(n_samples=500, noise=0.30, random_state=42)\n",
        "X_train, X_test, y_train, y_test = train_test_split(X, y, random_state=42)\n",
        "\n",
        "# Menginisialisasi beberapa classifier\n",
        "from sklearn.ensemble import RandomForestClassifier\n",
        "from sklearn.ensemble import VotingClassifier\n",
        "from sklearn.linear_model import LogisticRegression\n",
        "from sklearn.svm import SVC\n",
        "\n",
        "log_clf = LogisticRegression(solver=\"lbfgs\", random_state=42)\n",
        "rnd_clf = RandomForestClassifier(n_estimators=100, random_state=42)\n",
        "svm_clf = SVC(gamma=\"scale\", probability=True, random_state=42) # probability=True untuk soft voting\n",
        "\n",
        "# Membuat Voting Classifier (Hard Voting)\n",
        "voting_clf_hard = VotingClassifier(\n",
        "    estimators=[('lr', log_clf), ('rf', rnd_clf), ('svc', svm_clf)],\n",
        "    voting='hard')\n",
        "voting_clf_hard.fit(X_train, y_train)\n",
        "\n",
        "# Membuat Voting Classifier (Soft Voting)\n",
        "voting_clf_soft = VotingClassifier(\n",
        "    estimators=[('lr', log_clf), ('rf', rnd_clf), ('svc', svm_clf)],\n",
        "    voting='soft')\n",
        "voting_clf_soft.fit(X_train, y_train)\n",
        "\n",
        "# Membandingkan akurasi\n",
        "print(\"Akurasi setiap classifier:\")\n",
        "for clf in (log_clf, rnd_clf, svm_clf, voting_clf_hard, voting_clf_soft):\n",
        "    clf.fit(X_train, y_train)\n",
        "    y_pred = clf.predict(X_test)\n",
        "    print(clf.__class__.__name__, accuracy_score(y_test, y_pred))\n",
        "\n",
        "# HASIL: Soft voting classifier biasanya memiliki akurasi tertinggi."
      ],
      "metadata": {
        "colab": {
          "base_uri": "https://localhost:8080/"
        },
        "id": "h2deTknps3p5",
        "outputId": "a846ad0e-8110-45c7-8191-ac8b20eba729"
      },
      "execution_count": 2,
      "outputs": [
        {
          "output_type": "stream",
          "name": "stdout",
          "text": [
            "Akurasi setiap classifier:\n",
            "LogisticRegression 0.864\n",
            "RandomForestClassifier 0.896\n",
            "SVC 0.896\n",
            "VotingClassifier 0.912\n",
            "VotingClassifier 0.92\n"
          ]
        }
      ]
    },
    {
      "cell_type": "code",
      "source": [
        "from sklearn.ensemble import BaggingClassifier\n",
        "from sklearn.tree import DecisionTreeClassifier\n",
        "\n",
        "# Ensemble dengan metode Bagging\n",
        "bag_clf = BaggingClassifier(\n",
        "    DecisionTreeClassifier(), n_estimators=500,\n",
        "    max_samples=100, bootstrap=True, random_state=42)\n",
        "bag_clf.fit(X_train, y_train)\n",
        "y_pred = bag_clf.predict(X_test)\n",
        "print(\"\\nAkurasi Bagging Classifier:\", accuracy_score(y_test, y_pred))\n",
        "\n",
        "# Ensemble dengan metode Pasting\n",
        "# Cukup ubah bootstrap menjadi False\n",
        "paste_clf = BaggingClassifier(\n",
        "    DecisionTreeClassifier(), n_estimators=500,\n",
        "    max_samples=100, bootstrap=False, random_state=42)\n",
        "paste_clf.fit(X_train, y_train)\n",
        "y_pred_paste = paste_clf.predict(X_test)\n",
        "print(\"Akurasi Pasting Classifier:\", accuracy_score(y_test, y_pred_paste))\n",
        "\n",
        "\n",
        "# Evaluasi Out-of-Bag (OOB)\n",
        "# Hanya berlaku untuk Bagging (bootstrap=True)\n",
        "oob_clf = BaggingClassifier(\n",
        "    DecisionTreeClassifier(), n_estimators=500,\n",
        "    bootstrap=True, oob_score=True, random_state=40)\n",
        "oob_clf.fit(X_train, y_train)\n",
        "print(\"\\nOOB score:\", oob_clf.oob_score_)\n",
        "\n",
        "# Verifikasi OOB score dengan akurasi pada test set\n",
        "y_pred_oob = oob_clf.predict(X_test)\n",
        "print(\"Akurasi pada test set (untuk perbandingan OOB):\", accuracy_score(y_test, y_pred_oob))"
      ],
      "metadata": {
        "colab": {
          "base_uri": "https://localhost:8080/"
        },
        "id": "RW5e5iWds5ON",
        "outputId": "10b88c83-5586-4052-cce9-d2b3745d5b95"
      },
      "execution_count": 3,
      "outputs": [
        {
          "output_type": "stream",
          "name": "stdout",
          "text": [
            "\n",
            "Akurasi Bagging Classifier: 0.904\n",
            "Akurasi Pasting Classifier: 0.92\n",
            "\n",
            "OOB score: 0.8986666666666666\n",
            "Akurasi pada test set (untuk perbandingan OOB): 0.912\n"
          ]
        }
      ]
    },
    {
      "cell_type": "code",
      "source": [
        "from sklearn.ensemble import RandomForestClassifier\n",
        "from sklearn.datasets import load_iris\n",
        "\n",
        "# Melatih Random Forest Classifier\n",
        "rnd_clf = RandomForestClassifier(n_estimators=500, max_leaf_nodes=16, random_state=42)\n",
        "rnd_clf.fit(X_train, y_train)\n",
        "y_pred_rf = rnd_clf.predict(X_test)\n",
        "print(\"\\nAkurasi Random Forest:\", accuracy_score(y_test, y_pred_rf))\n",
        "\n",
        "# Menghitung Feature Importance\n",
        "iris = load_iris()\n",
        "rnd_clf_iris = RandomForestClassifier(n_estimators=500, random_state=42)\n",
        "rnd_clf_iris.fit(iris[\"data\"], iris[\"target\"])\n",
        "\n",
        "print(\"\\nFeature importances (Iris dataset):\")\n",
        "for name, score in zip(iris[\"feature_names\"], rnd_clf_iris.feature_importances_):\n",
        "    print(name, score)\n",
        "# HASIL: Menunjukkan bahwa fitur petal length dan width adalah yang paling penting."
      ],
      "metadata": {
        "colab": {
          "base_uri": "https://localhost:8080/"
        },
        "id": "sSfZ0ceEs5xR",
        "outputId": "43a0854f-1eab-4399-bee5-f64ee79e4f2f"
      },
      "execution_count": 4,
      "outputs": [
        {
          "output_type": "stream",
          "name": "stdout",
          "text": [
            "\n",
            "Akurasi Random Forest: 0.912\n",
            "\n",
            "Feature importances (Iris dataset):\n",
            "sepal length (cm) 0.11249225099876375\n",
            "sepal width (cm) 0.02311928828251033\n",
            "petal length (cm) 0.4410304643639577\n",
            "petal width (cm) 0.4233579963547682\n"
          ]
        }
      ]
    },
    {
      "cell_type": "code",
      "source": [
        "from sklearn.ensemble import AdaBoostClassifier\n",
        "\n",
        "# Melatih AdaBoost Classifier\n",
        "ada_clf = AdaBoostClassifier(\n",
        "    DecisionTreeClassifier(max_depth=1), n_estimators=200,\n",
        "    algorithm=\"SAMME\", learning_rate=0.5, random_state=42)\n",
        "ada_clf.fit(X_train, y_train)\n",
        "y_pred_ada = ada_clf.predict(X_test)\n",
        "print(\"\\nAkurasi AdaBoost:\", accuracy_score(y_test, y_pred_ada))"
      ],
      "metadata": {
        "colab": {
          "base_uri": "https://localhost:8080/"
        },
        "id": "MjcS7HThs6MP",
        "outputId": "7e9477b1-15e5-409a-ae8c-69b65b32de65"
      },
      "execution_count": 6,
      "outputs": [
        {
          "output_type": "stream",
          "name": "stdout",
          "text": [
            "\n",
            "Akurasi AdaBoost: 0.896\n"
          ]
        }
      ]
    },
    {
      "cell_type": "code",
      "source": [
        "from sklearn.ensemble import GradientBoostingRegressor\n",
        "from sklearn.metrics import mean_squared_error\n",
        "\n",
        "# Membuat data kuadratik untuk regresi\n",
        "np.random.seed(42)\n",
        "X = np.random.rand(100, 1) - 0.5\n",
        "y = 3*X[:, 0]**2 + 0.05 * np.random.randn(100)\n",
        "X_train_reg, X_val_reg, y_train_reg, y_val_reg = train_test_split(X, y, random_state=49)\n",
        "\n",
        "\n",
        "# Melatih Gradient Boosting Regressor\n",
        "gbrt = GradientBoostingRegressor(max_depth=2, n_estimators=120, random_state=42)\n",
        "gbrt.fit(X_train_reg, y_train_reg)\n",
        "\n",
        "# Mencari jumlah pohon optimal dengan early stopping\n",
        "errors = [mean_squared_error(y_val_reg, y_pred)\n",
        "          for y_pred in gbrt.staged_predict(X_val_reg)]\n",
        "bst_n_estimators = np.argmin(errors) + 1\n",
        "\n",
        "# Melatih kembali model dengan jumlah pohon optimal\n",
        "gbrt_best = GradientBoostingRegressor(max_depth=2, n_estimators=bst_n_estimators, random_state=42)\n",
        "gbrt_best.fit(X_train_reg, y_train_reg)\n",
        "\n",
        "print(\"\\nJumlah pohon optimal (Gradient Boosting):\", bst_n_estimators)\n",
        "\n",
        "# Plot validation error vs jumlah pohon\n",
        "plt.figure(figsize=(10, 4))\n",
        "plt.plot(errors, \"b.-\")\n",
        "plt.plot([bst_n_estimators, bst_n_estimators], [0, min(errors)], \"k--\")\n",
        "plt.plot([0, 120], [min(errors), min(errors)], \"k--\")\n",
        "plt.xlabel(\"Jumlah Pohon\")\n",
        "plt.ylabel(\"Validation Error\")\n",
        "plt.title(\"Validation Error vs. Number of Trees\")\n",
        "plt.show()"
      ],
      "metadata": {
        "colab": {
          "base_uri": "https://localhost:8080/",
          "height": 454
        },
        "id": "GPwyEQKxs6XS",
        "outputId": "1e87bb89-9ca7-4d48-c8e1-45828e5e06e4"
      },
      "execution_count": 7,
      "outputs": [
        {
          "output_type": "stream",
          "name": "stdout",
          "text": [
            "\n",
            "Jumlah pohon optimal (Gradient Boosting): 56\n"
          ]
        },
        {
          "output_type": "display_data",
          "data": {
            "text/plain": [
              "<Figure size 1000x400 with 1 Axes>"
            ],
            "image/png": "[encoded data removed]"
          },
          "metadata": {}
        }
      ]
    },
    {
      "cell_type": "code",
      "source": [
        "# CATATAN: Ini adalah implementasi manual\n",
        "# meniru logika yang dijelaskan di buku.\n",
        "\n",
        "# 1. Membagi data training utama menjadi dua subset\n",
        "X_train_main, X_val_main, y_train_main, y_val_main = train_test_split(X_train, y_train, random_state=42)\n",
        "\n",
        "# 2. Melatih beberapa model pada subset pertama\n",
        "rnd_clf_stack = RandomForestClassifier(n_estimators=100, random_state=42)\n",
        "svm_clf_stack = SVC(gamma=\"scale\", probability=True, random_state=42)\n",
        "\n",
        "rnd_clf_stack.fit(X_train_main, y_train_main)\n",
        "svm_clf_stack.fit(X_train_main, y_train_main)\n",
        "\n",
        "# 3. Membuat prediksi pada subset kedua (hold-out set)\n",
        "val_pred_rnd = rnd_clf_stack.predict(X_val_main)\n",
        "val_pred_svm = svm_clf_stack.predict(X_val_main)\n",
        "\n",
        "# 4. Menggabungkan prediksi menjadi fitur baru untuk blender\n",
        "blender_input_features = np.c_[val_pred_rnd, val_pred_svm]\n",
        "\n",
        "# 5. Melatih blender (model akhir) pada fitur baru ini\n",
        "# Di sini kita menggunakan Logistic Regression sebagai blender\n",
        "blender = LogisticRegression(solver=\"lbfgs\", random_state=42)\n",
        "blender.fit(blender_input_features, y_val_main)\n",
        "\n",
        "# 6. Untuk membuat prediksi pada data test,\n",
        "# pertama-tama buat prediksi dari model lapisan pertama\n",
        "test_pred_rnd = rnd_clf_stack.predict(X_test)\n",
        "test_pred_svm = svm_clf_stack.predict(X_test)\n",
        "blender_test_features = np.c_[test_pred_rnd, test_pred_svm]\n",
        "\n",
        "# Kemudian gunakan blender untuk membuat prediksi akhir\n",
        "final_predictions = blender.predict(blender_test_features)\n",
        "print(\"\\nAkurasi Stacking (manual):\", accuracy_score(y_test, final_predictions))"
      ],
      "metadata": {
        "colab": {
          "base_uri": "https://localhost:8080/"
        },
        "id": "0CteAjYxtDD0",
        "outputId": "5ccd3533-de6d-4485-e6f6-4def9c90494e"
      },
      "execution_count": 8,
      "outputs": [
        {
          "output_type": "stream",
          "name": "stdout",
          "text": [
            "\n",
            "Akurasi Stacking (manual): 0.896\n"
          ]
        }
      ]
    }
  ]
}